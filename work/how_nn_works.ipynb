{
 "cells": [
  {
   "cell_type": "code",
   "execution_count": 2,
   "metadata": {},
   "outputs": [],
   "source": [
    "from ipywidgets import interact\n",
    "from fastai.basics import *\n",
    "\n",
    "plt.rc('figure', dpi=90)\n",
    "\n",
    "def plot_function(f, title=None, min=-2.1, max=2.1, color='r', ylim=None):\n",
    "    x = torch.linspace(min,max, 100)[:,None]\n",
    "    if ylim: plt.ylim(ylim)\n",
    "    plt.plot(x, f(x), color)\n",
    "    if title is not None: \n",
    "        plt.title(title)"
   ]
  },
  {
   "cell_type": "code",
   "execution_count": 3,
   "metadata": {},
   "outputs": [],
   "source": [
    "from numpy.random import normal, seed, uniform\n",
    "np.random.seed(42)\n",
    "\n",
    "class Quad:\n",
    "    \"\"\"A quadratic function of the form ax^2 + bx + c.\"\"\"\n",
    "    def __init__(self, a: float, b: float, c: float):\n",
    "        self.a, self.b, self.c = a, b, c\n",
    "\n",
    "    def __str__(self): return f'${self.a:.2f}x^2 + {self.b:.2f}x + {self.c:.2f}$'\n",
    "    def __repr__(self): return f'Quad({self.a}, {self.b}, {self.c})'\n",
    "    def __call__(self, x): return self.a * x**2 + self.b * x + self.c\n",
    "    def as_latex(self): return self.__str__()\n",
    "    def plot(self, ylim=None, title=None):\n",
    "        title = self.as_latex() if not title else title\n",
    "        plot_function(self, title, ylim=ylim)\n",
    "\n",
    "    def noise(self, x, scale): \n",
    "        return normal(scale=scale, size=x.shape)\n",
    "    def add_noise(self, x, mult, add):\n",
    "        return Tensor(x * (1 + self.noise(x, mult)) + self.noise(x, add))\n",
    "\n",
    "    def get_noisy_y(self, mult=0.3, add=1.5, min=-2, max=2, steps=20):\n",
    "        x = torch.linspace(min, max, steps)[:, None]\n",
    "        return (x,self.add_noise(self(x), mult, add))\n",
    "    \n",
    "    def scatter_noise(self, mult=0.3, add=1.5, min=-2, max=2, steps=20):\n",
    "        plt.scatter(*self.get_noisy_y(mult, add, min, max, steps))\n",
    "\n",
    "    def get_x(self, min=-2, max=2, steps=20):\n",
    "        return torch.linspace(min, max, steps)[:, None]\n",
    "\n",
    "    def get_y(self, x, mult=0.3, add=1.5):\n",
    "        return self.add_noise(self(x), mult, add)\n",
    "\n",
    "    def get_x_y(self, mult=0.3, add=1.5, min=-2, max=2, steps=20):\n",
    "        x = self.get_x(min, max, steps)\n",
    "        return x, self.add_noise(self(x), mult, add)\n",
    "    "
   ]
  },
  {
   "cell_type": "code",
   "execution_count": 4,
   "metadata": {},
   "outputs": [],
   "source": [
    "np.random.seed(42)\n",
    "def noise(x, scale):\n",
    "    \"\"\"Adds random Gaussian noise to input data.\n",
    "    \n",
    "    Args:\n",
    "        x: Input tensor/array to add noise to (only used for shape)\n",
    "        scale: Standard deviation of the Gaussian noise\n",
    "        \n",
    "    Returns:\n",
    "        Tensor of Gaussian noise with same shape as input x and standard deviation of scale\"\"\"\n",
    "    return normal(scale=scale, size=x.shape)\n",
    "\n",
    "def add_noise(x, mult, add):\n",
    "    \"\"\"Adds noise to input data.\n",
    "    \n",
    "    Args:\n",
    "        x: Input tensor/array to add noise to\n",
    "        mult: Multiplier for the Gaussian noise\n",
    "    \"\"\"\n",
    "    return x * (1 + noise(x, mult)) + noise(x, add)"
   ]
  },
  {
   "cell_type": "code",
   "execution_count": 5,
   "metadata": {},
   "outputs": [
    {
     "name": "stderr",
     "output_type": "stream",
     "text": [
      "/tmp/ipykernel_799/475098338.py:20: DeprecationWarning: __array_wrap__ must accept context and return_scalar arguments (positionally) in the future. (Deprecated NumPy 2.0)\n",
      "  return x * (1 + noise(x, mult)) + noise(x, add)\n"
     ]
    },
    {
     "data": {
      "text/plain": [
       "<matplotlib.collections.PathCollection at 0x7fb0628241f0>"
      ]
     },
     "execution_count": 5,
     "metadata": {},
     "output_type": "execute_result"
    },
    {
     "data": {
      "image/png": "[encoded data removed]",
      "text/plain": [
       "<Figure size 576x432 with 1 Axes>"
      ]
     },
     "metadata": {},
     "output_type": "display_data"
    }
   ],
   "source": [
    "\n",
    "q = Quad(3, 2, 1)\n",
    "x = torch.linspace(-2, 2, steps=20)[:, None]\n",
    "y = add_noise(q(x), 0.3, 1.5)\n",
    "plt.scatter(x, y)\n"
   ]
  },
  {
   "cell_type": "markdown",
   "metadata": {},
   "source": []
  },
  {
   "cell_type": "code",
   "execution_count": 6,
   "metadata": {},
   "outputs": [
    {
     "data": {
      "application/vnd.jupyter.widget-view+json": {
       "model_id": "fe8b238cd8b642afad367b070d61b0cb",
       "version_major": 2,
       "version_minor": 0
      },
      "text/plain": [
       "interactive(children=(FloatSlider(value=1.5, description='a', max=4.5, min=-1.5), FloatSlider(value=1.5, descr…"
      ]
     },
     "metadata": {},
     "output_type": "display_data"
    }
   ],
   "source": [
    "from ipywidgets import interact\n",
    "\n",
    "@interact(a=1.5, b=1.5, c=1.5)\n",
    "def plot_quad(a, b, c):\n",
    "    q = Quad(a, b, c)\n",
    "    plt.scatter(x, y)\n",
    "    q.plot(ylim=(-3,12))\n"
   ]
  },
  {
   "cell_type": "code",
   "execution_count": 7,
   "metadata": {},
   "outputs": [],
   "source": [
    "# You wouldn't actually use this, but it's a good way to understand the math\n",
    "# This is what mse does just written out\n",
    "# Also, you're not dependent on having a numpy array object\n",
    "def mse(predictions, actuals):\n",
    "    total = sum( (p - a) ** 2 for p, a in zip(predictions, actuals) )\n",
    "    return total / len(predictions)\n",
    "\n",
    "def mse_ol(predictions, actuals):\n",
    "    \"\"\"one-liner version of mse\"\"\"\n",
    "    return ((predictions - actuals) ** 2).mean()\n",
    "\n"
   ]
  },
  {
   "cell_type": "markdown",
   "metadata": {},
   "source": [
    "## Mean Squared Error\n",
    "Mean Squared Error is a kind of loss function to tell how well you are approximating a given set of data.\n",
    "\n",
    "You have all the points described by your curve (coefficients) and all the actual points. So for every x, you take the difference between your prediction for y and the actual value of y. You then square it to eliminate negative values. Finally, you sum all of them up.\n",
    "# The formula for MSE is:\n",
    "# $MSE = \\frac{1}{n}\\sum_{i=1}^{n}(y_i - \\hat{y}_i)^2$\n",
    "# \n",
    "# where:\n",
    "# - $n$ is the number of data points\n",
    "# - $y_i$ is the actual value\n",
    "# - $\\hat{y}_i$ is the predicted value\n",
    "\n",
    "So given [1, 3, 5], [2, 4, 6]\n",
    "\n",
    "```\n",
    "[1  [2,  -> 1^2 = 1\n",
    " 3,  4,  -> 1^2 = 1\n",
    " 5]  6]  -> 1^2 = 1\n",
    "\n",
    "[1+1+1 = 3] / len(preds) = 1\n",
    "```"
   ]
  },
  {
   "cell_type": "code",
   "execution_count": 8,
   "metadata": {},
   "outputs": [
    {
     "data": {
      "image/png": "[encoded data removed]",
      "text/plain": [
       "<Figure size 576x432 with 1 Axes>"
      ]
     },
     "metadata": {},
     "output_type": "display_data"
    },
    {
     "data": {
      "application/vnd.jupyter.widget-view+json": {
       "model_id": "591e8190c2154f5bbe95ecb4d15da6c8",
       "version_major": 2,
       "version_minor": 0
      },
      "text/plain": [
       "interactive(children=(FloatSlider(value=1.5, description='a', max=4.5, min=-1.5), FloatSlider(value=1.5, descr…"
      ]
     },
     "metadata": {},
     "output_type": "display_data"
    }
   ],
   "source": [
    "@interact(a=1.5, b=1.5, c=1.5)\n",
    "def plot_quad(a, b, c):\n",
    "    q = Quad(a, b, c)\n",
    "    plt.scatter(x, y)\n",
    "    loss = mse(q(x), y)\n",
    "    q.plot(ylim=(-3,12), title=f'MSE: {loss:.4f}')\n",
    "    "
   ]
  },
  {
   "cell_type": "code",
   "execution_count": 9,
   "metadata": {},
   "outputs": [
    {
     "name": "stderr",
     "output_type": "stream",
     "text": [
      "/tmp/ipykernel_799/197640576.py:20: DeprecationWarning: __array_wrap__ must accept context and return_scalar arguments (positionally) in the future. (Deprecated NumPy 2.0)\n",
      "  return Tensor(x * (1 + self.noise(x, mult)) + self.noise(x, add))\n"
     ]
    }
   ],
   "source": [
    "quad = Quad(3, 2, 1)\n",
    "x, y = quad.get_x_y()\n",
    "def quad_mse(params):\n",
    "    quad = Quad(*params)\n",
    "\n",
    "    # Assumes you have a set of x and y values outside of this function.\n",
    "    # Or you can make one. I'm going to make one.\n",
    "    return mse(quad(x), y)"
   ]
  },
  {
   "cell_type": "code",
   "execution_count": 10,
   "metadata": {},
   "outputs": [],
   "source": [
    "\n",
    "abc = torch.tensor([1.5, 1.5, 1.5], requires_grad=True)\n",
    "loss = quad_mse(abc)\n",
    "# Compute gradients\n",
    "loss.backward()\n"
   ]
  },
  {
   "cell_type": "code",
   "execution_count": 11,
   "metadata": {},
   "outputs": [
    {
     "data": {
      "text/plain": [
       "tensor([-10.9887,  -2.1225,  -4.0015])"
      ]
     },
     "execution_count": 11,
     "metadata": {},
     "output_type": "execute_result"
    }
   ],
   "source": [
    "abc.grad"
   ]
  },
  {
   "cell_type": "code",
   "execution_count": 12,
   "metadata": {},
   "outputs": [
    {
     "name": "stdout",
     "output_type": "stream",
     "text": [
      "Loss: 10.114381219621027\n"
     ]
    }
   ],
   "source": [
    "with torch.no_grad():\n",
    "    # For each item in the gradient tensor, reduce is by a factor of alpha\n",
    "    abc -= abc.grad * 0.01\n",
    "    loss = quad_mse(abc)\n",
    "\n",
    "print(f\"Loss: {loss.item()}\")"
   ]
  },
  {
   "cell_type": "code",
   "execution_count": 13,
   "metadata": {},
   "outputs": [
    {
     "name": "stdout",
     "output_type": "stream",
     "text": [
      "initial loss: 9.284177971301235\n",
      "loss after step: 8.273777989084703\n"
     ]
    },
    {
     "name": "stderr",
     "output_type": "stream",
     "text": [
      "/tmp/ipykernel_799/197640576.py:20: DeprecationWarning: __array_wrap__ must accept context and return_scalar arguments (positionally) in the future. (Deprecated NumPy 2.0)\n",
      "  return Tensor(x * (1 + self.noise(x, mult)) + self.noise(x, add))\n"
     ]
    }
   ],
   "source": [
    "# Let's do the whole thing\n",
    "# Here's our actual function\n",
    "quad = Quad(3, 2, 1)\n",
    "# Let's get some points that are close to the actual function\n",
    "x, y = quad.get_x_y()\n",
    "# Let's take some random-ass guesses\n",
    "abc = torch.tensor([1.5, 1.5, 1.5], requires_grad=True)\n",
    "# Calculate the loss\n",
    "loss = quad_mse(abc)\n",
    "print(f\"initial loss: {loss.item()}\")\n",
    "# Calculate the gradients\n",
    "loss.backward()\n",
    "\n",
    "# Do one round of gradient descent\n",
    "# Don't want to calculate gradiets here, since we're just updating values\n",
    "with torch.no_grad():\n",
    "    # Update the tensor by a factor of the gradient\n",
    "    abc -= abc.grad * 0.01\n",
    "    # This is our new loss\n",
    "    loss = quad_mse(abc)\n",
    "    print(f\"loss after step: {loss.item()}\")\n",
    "\n",
    "\n"
   ]
  },
  {
   "cell_type": "markdown",
   "metadata": {},
   "source": [
    "# The Whole Thing\n",
    "1. We want a bunch of points to try to fit a function to\n",
    "2. We'll define a function `quad` as a template for creating some noisy data\n",
    "3. We'll create even steps for the x axis, and noisy values for the y axis\n",
    "4. We'll define a tensor of guesses (requiring it to track gradients)\n",
    "\n",
    "We'll then do the following in a loop\n",
    "1. Calculate the loss between our guesses for the coefficients to the function that fits the curve, and the actual values we randomly generated\n",
    "2. We'll call `backward()` to compute the actual gradients going back through the calculations\n",
    "3. We'll update all of our guesses by a small negative fraction of the computed gradient\n",
    "4. I've added code to abort if we start going off in the wrong direction again, but you could also just do a fixed number of iterations"
   ]
  },
  {
   "cell_type": "code",
   "execution_count": 14,
   "metadata": {},
   "outputs": [
    {
     "name": "stdout",
     "output_type": "stream",
     "text": [
      "loss after step 1: 9.314658065813955\n",
      "loss after step 2: 9.108640333125885\n",
      "loss after step 3: 8.808859884600885\n",
      "loss after step 4: 8.426043614692398\n",
      "loss after step 5: 7.97388016671228\n",
      "loss after step 6: 7.468533881594171\n",
      "loss after step 7: 6.9280600685991285\n",
      "loss after step 8: 6.3717590691171475\n",
      "loss after step 9: 5.819476152666075\n",
      "loss after step 10: 5.2908941535009\n",
      "loss after step 11: 4.804816176781339\n",
      "loss after step 12: 4.378498723481026\n",
      "loss after step 13: 4.027026199193541\n",
      "loss after step 14: 3.7627702503517475\n",
      "loss after step 15: 3.5949432503866334\n",
      "loss after step 16: 3.529270423371672\n",
      "Loss went from 3.529270423371672 to 3.5677840713061912 after step 17\n"
     ]
    },
    {
     "name": "stderr",
     "output_type": "stream",
     "text": [
      "/tmp/ipykernel_799/197640576.py:20: DeprecationWarning: __array_wrap__ must accept context and return_scalar arguments (positionally) in the future. (Deprecated NumPy 2.0)\n",
      "  return Tensor(x * (1 + self.noise(x, mult)) + self.noise(x, add))\n"
     ]
    }
   ],
   "source": [
    "quad = Quad(3, 2, 1)\n",
    "# Let's get some points that are close to the actual function\n",
    "x, y = quad.get_x_y()\n",
    "# Let's take some random-ass guesses\n",
    "abc = torch.tensor([1.5, 1.5, 1.5], requires_grad=True)\n",
    "\n",
    "prev_loss = 999999\n",
    "\n",
    "for i in range(100):\n",
    "    loss = quad_mse(abc)\n",
    "    loss.backward()\n",
    "    with torch.no_grad():\n",
    "        abc -= abc.grad * 0.001\n",
    "        loss = quad_mse(abc)\n",
    "    if loss > prev_loss:\n",
    "        print(f\"Loss went from {prev_loss.item()} to {loss.item()} after step {i+1}\")\n",
    "        break\n",
    "    prev_loss = loss\n",
    "    print(f\"loss after step {i+1}: {loss.item()}\")\n"
   ]
  },
  {
   "cell_type": "code",
   "execution_count": 15,
   "metadata": {},
   "outputs": [
    {
     "name": "stderr",
     "output_type": "stream",
     "text": [
      "/tmp/ipykernel_799/475098338.py:20: DeprecationWarning: __array_wrap__ must accept context and return_scalar arguments (positionally) in the future. (Deprecated NumPy 2.0)\n",
      "  return x * (1 + noise(x, mult)) + noise(x, add)\n"
     ]
    },
    {
     "name": "stdout",
     "output_type": "stream",
     "text": [
      "loss after step 1: 8.413198700898013\n",
      "loss after step 2: 6.753192614341925\n",
      "loss after step 3: 5.020532183003711\n",
      "loss after step 4: 3.819716470899833\n",
      "loss after step 5: 3.5657132973981973\n",
      "Loss went from 3.5657132973981973 to 4.337907275912768 after step 6\n",
      "tensor([[12.5396],\n",
      "        [ 6.3975],\n",
      "        [ 6.4566],\n",
      "        [ 3.5170],\n",
      "        [ 1.6997],\n",
      "        [ 1.8379],\n",
      "        [-0.0241],\n",
      "        [ 1.5212],\n",
      "        [-0.3274],\n",
      "        [ 0.5191],\n",
      "        [ 0.1683],\n",
      "        [ 4.4394],\n",
      "        [ 3.0727],\n",
      "        [ 0.1612],\n",
      "        [ 3.9298],\n",
      "        [ 4.2689],\n",
      "        [ 6.8255],\n",
      "        [ 9.7947],\n",
      "        [ 8.3291],\n",
      "        [10.0925]], dtype=torch.float64)\n"
     ]
    },
    {
     "data": {
      "text/plain": [
       "<matplotlib.collections.PathCollection at 0x7fb0623c4250>"
      ]
     },
     "execution_count": 15,
     "metadata": {},
     "output_type": "execute_result"
    },
    {
     "data": {
      "image/png": "[encoded data removed]",
      "text/plain": [
       "<Figure size 576x432 with 1 Axes>"
      ]
     },
     "metadata": {},
     "output_type": "display_data"
    }
   ],
   "source": [
    "from pprint import pprint as pp;\n",
    "\n",
    "# Another version\n",
    "def get_data(a, b, c, min=-2, max=2, steps=20, mult=0.3, add=1.5):\n",
    "    \"\"\"Get's some random data given a true quadratic function\"\"\"\n",
    "    np.random.seed(42)\n",
    "    x = torch.linspace(min, max, steps)[:, None]\n",
    "    y = add_noise(a * x**2 + b * x + c, mult, add)\n",
    "    return x, y\n",
    "\n",
    "def fit(x, y):\n",
    "    \"\"\"\n",
    "    Given a set of x and y values, fit a quadratic function to the data.\n",
    "    Return the coefficients of the quardratic\n",
    "    \"\"\"\n",
    "    abc = torch.tensor([1.5, 1.5, 1.5], requires_grad=True)\n",
    "        \n",
    "    prev_loss = 999999\n",
    "\n",
    "    for i in range(100):\n",
    "        loss = quad_mse(abc)\n",
    "        loss.backward()\n",
    "        with torch.no_grad():\n",
    "            abc -= abc.grad * 0.01\n",
    "            loss = quad_mse(abc)\n",
    "        if loss > prev_loss:\n",
    "            print(f\"Loss went from {prev_loss.item()} to {loss.item()} after step {i+1}\")\n",
    "            break\n",
    "        prev_loss = loss\n",
    "        print(f\"loss after step {i+1}: {loss.item()}\")\n",
    "    return abc\n",
    "\n",
    "data = get_data(3, 2, 1)\n",
    "best_fit = fit(*data)\n",
    "best_fit = list(best_fit.detach())\n",
    "\n",
    "pp(data[1])\n",
    "quad = Quad(*list(best_fit))\n",
    "quad.plot()\n",
    "plt.scatter(x, y)\n"
   ]
  },
  {
   "cell_type": "code",
   "execution_count": 16,
   "metadata": {},
   "outputs": [
    {
     "data": {
      "image/png": "[encoded data removed]",
      "text/plain": [
       "<Figure size 576x432 with 1 Axes>"
      ]
     },
     "metadata": {},
     "output_type": "display_data"
    }
   ],
   "source": [
    "# So wtf are we actually solving for?\n",
    "# It's not a quadratic, since that's not interesting.\n",
    "# Let's look at relus\n",
    "\n",
    "def relu(m, b, x):\n",
    "    y = (m * x) + b\n",
    "    return torch.clip(y, 0.)\n",
    "\n",
    "# This models a relu of y = 1x + 1\n",
    "# with negative values clipped to zero\n",
    "plot_function(partial(relu, x=1, b=1))"
   ]
  },
  {
   "cell_type": "code",
   "execution_count": 17,
   "metadata": {},
   "outputs": [
    {
     "data": {
      "application/vnd.jupyter.widget-view+json": {
       "model_id": "6157eaf19ffa4d8bba22d47913f89482",
       "version_major": 2,
       "version_minor": 0
      },
      "text/plain": [
       "interactive(children=(FloatSlider(value=1.5, description='m', max=4.5, min=-1.5), FloatSlider(value=1.5, descr…"
      ]
     },
     "metadata": {},
     "output_type": "display_data"
    }
   ],
   "source": [
    "@interact(m=1.5, b=1.5)\n",
    "def plot_relu(m, b):\n",
    "    plot_function(partial(relu, m, b), ylim=(-1, 4))\n"
   ]
  },
  {
   "cell_type": "code",
   "execution_count": 18,
   "metadata": {},
   "outputs": [
    {
     "data": {
      "application/vnd.jupyter.widget-view+json": {
       "model_id": "4b378080f5324003ab229c6c7a4194f2",
       "version_major": 2,
       "version_minor": 0
      },
      "text/plain": [
       "interactive(children=(FloatSlider(value=1.5, description='m1', max=4.5, min=-1.5), FloatSlider(value=1.5, desc…"
      ]
     },
     "metadata": {},
     "output_type": "display_data"
    }
   ],
   "source": [
    "def double_relu(m1, b1, m2, b2, x):\n",
    "    return relu(m1, b1, x) + relu(m2, b2, x)\n",
    "\n",
    "@interact(m1=1.5, b1=1.5, m2=1.5, b2=1.5)\n",
    "def plot_double_relu(m1, b1, m2, b2):\n",
    "    plot_function(partial(double_relu, m1, b1, m2, b2), ylim=(-1, 4))\n",
    "\n",
    "\n"
   ]
  },
  {
   "cell_type": "code",
   "execution_count": 19,
   "metadata": {},
   "outputs": [
    {
     "data": {
      "application/vnd.jupyter.widget-view+json": {
       "model_id": "04d0b8eec9d848cd8a002675c5ea7261",
       "version_major": 2,
       "version_minor": 0
      },
      "text/plain": [
       "interactive(children=(FloatSlider(value=1.5, description='m1', max=4.5, min=-1.5), FloatSlider(value=1.5, desc…"
      ]
     },
     "metadata": {},
     "output_type": "display_data"
    }
   ],
   "source": [
    "def triple_relu(m1, b1, m2, b2, m3, b3, x):\n",
    "    return relu(m1, b1, x) + relu(m2, b2, x) + relu(m3, b3, x)\n",
    "\n",
    "@interact(m1=1.5, b1=1.5, m2=1.5, b2=1.5, m3=1.5, b3=1.5)\n",
    "def plot_triple_relu(m1, b1, m2, b2, m3, b3):\n",
    "    plot_function(partial(triple_relu, m1, b1, m2, b2, m3, b3), ylim=(-1, 4))\n"
   ]
  }
 ],
 "metadata": {
  "kernelspec": {
   "display_name": ".fastai_course",
   "language": "python",
   "name": "python3"
  },
  "language_info": {
   "codemirror_mode": {
    "name": "ipython",
    "version": 3
   },
   "file_extension": ".py",
   "mimetype": "text/x-python",
   "name": "python",
   "nbconvert_exporter": "python",
   "pygments_lexer": "ipython3",
   "version": "3.10.17"
  }
 },
 "nbformat": 4,
 "nbformat_minor": 2
}
